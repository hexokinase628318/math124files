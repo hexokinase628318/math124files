{
 "cells": [
  {
   "cell_type": "markdown",
   "metadata": {},
   "source": [
    "# Math 124 - Programming for Mathematical Applications\n",
    "UC Berkeley, Spring 2024\n",
    "\n",
    "## Project 4 - Image segmentation\n",
    "\n",
    "Due Friday, April 12"
   ]
  },
  {
   "cell_type": "markdown",
   "metadata": {},
   "source": [
    "### Description\n",
    "\n",
    "*Image segmentation* is a technique for partitioning an image into multiple segments, in order to identify\n",
    "objects and boundaries. It has a wide range of applications, in fields such as computer vision, medical imaging, and face recognition.\n",
    "\n",
    "In this project you will implement a simplified version of the so-called *Chan-Vese* levelset based image segmentation method. If you are interested, you can learn more about the method at <https://www.ipol.im/pub/art/2012/g-cv/article.pdf>. But all you need to know for the project will be described below."
   ]
  },
  {
   "cell_type": "markdown",
   "metadata": {},
   "source": [
    "### Preliminaries\n",
    "\n",
    "First we will define the images that we will use to test our method. The function below implements two test problems of size `m`-by-`m`, and it has an option to add a given amount of Gaussian noise:"
   ]
  },
  {
   "cell_type": "code",
   "execution_count": null,
   "metadata": {},
   "outputs": [],
   "source": [
    "using PyPlot\n",
    "\n",
    "function test_image(ver, m=50, noise=0)\n",
    "    A = 0.8*ones(Float64, m, m)\n",
    "    if ver == 1\n",
    "        i = 1:m\n",
    "        sc = m/100\n",
    "        for c in [[50,60,20], [65,60,15], [35,30,15]]\n",
    "            A = @. max(0.2, A - 0.6*Float64((i - sc*c[1])^2 + \n",
    "                    (i' - sc*c[2])^2 < (sc*c[3])^2))\n",
    "        end\n",
    "    elseif ver == 2\n",
    "        is = [[25,35,25,35], [65,75,65,75], [65,75,45,50], [40,45,40,70]]\n",
    "        for i in is\n",
    "            i = round.(Int, i*m/100)\n",
    "            A[i[1]:i[2], i[3]:i[4]] .= 0.3\n",
    "        end\n",
    "    else\n",
    "        error(\"Unknown image version\")\n",
    "    end\n",
    "    \n",
    "    A += noise*randn(size(A))\n",
    "    A = min.(max.(A, 0), 1)\n",
    "end"
   ]
  },
  {
   "cell_type": "markdown",
   "metadata": {},
   "source": [
    "These two test images are shown below, with no noise (top row) and with noise of magnitude 0.3 (bottom row)."
   ]
  },
  {
   "cell_type": "code",
   "execution_count": null,
   "metadata": {},
   "outputs": [],
   "source": [
    "count = 0\n",
    "m = 50\n",
    "for noise = [0, 0.3], ver = 1:2\n",
    "    subplot(2,2,count+=1)\n",
    "    A = test_image(ver, m, noise)\n",
    "    imshow(A[:,:,[1,1,1]])\n",
    "end"
   ]
  },
  {
   "cell_type": "markdown",
   "metadata": {},
   "source": [
    "Clearly, it appears much more difficult to identify the objects and the boundaries with a large amount of noise. The method we will implement here is particularly good at handling these cases."
   ]
  },
  {
   "cell_type": "markdown",
   "metadata": {},
   "source": [
    "### Level sets and contour plotting\n",
    "\n",
    "The Chan-Vese method is based on the *levelset method*. A function $\\Phi(x,y)$ is used to represent an interface as a zero contour, that is, the points $x,y$ where $\\Phi(x,y)=0$. For example, a circle centered at $x_0,y_0$ with radius $r$ can be represented by the function\n",
    "\n",
    "$$\n",
    "\\Phi(x,y) = \\sqrt{(x-x_0)^2 + (y-y_0)^2} - r\n",
    "$$\n",
    "\n",
    "This is implemented in the function below, which creates a matrix $\\Phi$ of given size `sz` and initializes it to values that represent a large circle."
   ]
  },
  {
   "cell_type": "code",
   "execution_count": null,
   "metadata": {},
   "outputs": [],
   "source": [
    "function initial_value(sz)\n",
    "    m,n = sz\n",
    "    Φ = [sqrt((i - m/2)^2 + (j - n/2)^2) - 0.4n for i = 1:m, j = 1:n]\n",
    "end"
   ]
  },
  {
   "cell_type": "markdown",
   "metadata": {},
   "source": [
    "The `contour` function can be used to plot the zero contour for this matrix $\\Phi$:"
   ]
  },
  {
   "cell_type": "code",
   "execution_count": null,
   "metadata": {},
   "outputs": [],
   "source": [
    "Φ = initial_value([50,50])\n",
    "contour(Φ, [0.0], colors=\"b\")\n",
    "axis(\"equal\");"
   ]
  },
  {
   "cell_type": "markdown",
   "metadata": {},
   "source": [
    "### Algorithm\n",
    "\n",
    "The segmentation method is based on starting from an initial matrix $\\Phi$, and evolving the interface using the expressions below. With certain assumptions on the image matrix $A$, the zero contour $\\Phi(x,y)=0$ will align with the boundaries of the objects in the image.\n",
    "\n",
    "First, we define so-called smoothed Heaviside and delta functions:\n",
    "\n",
    "$$\n",
    "\\begin{align*}\n",
    "H(t) &= \\frac12 \\left(1 + \\frac{2}{\\pi} \\arctan(t)\\right) \\\\\n",
    "\\delta(t) &= \\frac{d}{dt}H(t) = \\frac{1}{\\pi(t^2+1)}\n",
    "\\end{align*}\n",
    "$$\n",
    "\n",
    "For an image matrix $A$ and a levelset matrix $\\Phi$, both of size $m$-by-$n$, we define the following scalars:\n",
    "\n",
    "$$\n",
    "\\begin{align*}\n",
    "c_1 &= \\frac{\\sum_{i=1}^m \\sum_{j=1}^n A_{ij} H(\\Phi_{ij})}\n",
    "            {\\sum_{i=1}^m \\sum_{j=1}^n H(\\Phi_{ij})} \\\\\n",
    "c_2 &= \\frac{\\sum_{i=1}^m \\sum_{j=1}^n A_{ij} (1 - H(\\Phi_{ij}))}\n",
    "            {\\sum_{i=1}^m \\sum_{j=1}^n (1 - H(\\Phi_{ij}))}\n",
    "\\end{align*}\n",
    "$$\n",
    "\n",
    "Next we define an *update matrix* $\\Delta \\Phi$ of size $m$-by-$n$ with the following entries:\n",
    "\n",
    "$$\n",
    "\\Delta\\Phi_{ij} =\n",
    "100\\delta(\\Phi_{ij})\\left(0.2\\kappa_{ij} - (A_{ij} - c_1)^2 + (A_{ij} - c_2)^2\\right)\n",
    "$$\n",
    "\n",
    "Here, the curvature $\\kappa_{ij}$ is defined by the following expressions:\n",
    "\n",
    "$$\n",
    "\\begin{align*}\n",
    "\\Phi^{xx}_{ij} &= \\Phi_{i+1,j} - 2\\Phi_{ij} + \\Phi_{i-1,j} \\\\\n",
    "\\Phi^{yy}_{ij} &= \\Phi_{i,j+1} - 2\\Phi_{ij} + \\Phi_{i,j-1} \\\\\n",
    "\\Phi^{xy}_{ij} &= (\\Phi_{i+1,j+1} - \\Phi_{i-1,j+1} - \\Phi_{i+1,j-1} + \\Phi_{i-1,j-1}) / 4 \\\\\n",
    "\\Phi^{x}_{ij} &= (\\Phi_{i+1,j} - \\Phi_{i-1,j}) / 2 \\\\\n",
    "\\Phi^{y}_{ij} &= (\\Phi_{i,j+1} - \\Phi_{i,j-1}) / 2 \\\\\n",
    "\\kappa^0_{ij} &= \\frac{\\Phi^{xx}_{ij}(\\Phi^{y}_{ij})^2 - 2\\Phi^{x}_{ij}\\Phi^{y}_{ij}\\Phi^{xy}_{ij}\n",
    "+ \\Phi^{yy}_{ij}(\\Phi^{x}_{ij})^2}{((\\Phi^{x}_{ij})^2 + (\\Phi^{y}_{ij})^2)^{3/2} + 10^{-6}} \\\\\n",
    "\\kappa_{ij} &= \\max(\\min(\\kappa^0_{ij}, 5), -5)\n",
    "\\end{align*}\n",
    "$$\n",
    "\n",
    "Finally, the algorithm performs the following steps iteratively:\n",
    "\n",
    "* Compute $c_1,c_2$\n",
    "* Compute the update matrix $\\Delta\\Phi$\n",
    "* Update $\\Phi \\rightarrow \\Phi + \\Delta\\Phi$\n",
    "* Repeat until $\\max_{ij} |\\Delta\\Phi_{ij}| < 2\\cdot 10^{-2}$"
   ]
  },
  {
   "cell_type": "markdown",
   "metadata": {},
   "source": [
    "### Problem 1 - A type hierarchy for stencil operations\n",
    "\n",
    "If you consider the operations in the Image Filtering section of the lecture notes, you can see they all fit the following pattern: Loop over all the (internal) image pixels, apply some function to a *local* 3-by-3 submatrix around each pixel, which determines the new filtered image pixel value. This structure is also called a *stencil operation*, and the function that maps a 3-by-3 matrix to a value is called *the stencil*.\n",
    "\n",
    "To demonstrate how to implement this using a Julia type hierarchy, we will first define an abstract stencil type:"
   ]
  },
  {
   "cell_type": "code",
   "execution_count": null,
   "metadata": {},
   "outputs": [],
   "source": [
    "abstract type AbstractStencil end"
   ]
  },
  {
   "cell_type": "markdown",
   "metadata": {},
   "source": [
    "We can then define a struct for the actual stencils, as a *subtype* of the abstract stencil.\n",
    "For example, for the mean filter:"
   ]
  },
  {
   "cell_type": "code",
   "execution_count": null,
   "metadata": {},
   "outputs": [],
   "source": [
    "struct AverageStencil <: AbstractStencil end"
   ]
  },
  {
   "cell_type": "markdown",
   "metadata": {},
   "source": [
    "This allows us to define functions that are different depending on the subtype, but still write general functions that can operate on any stencil of subtype `AbstractStencil`. For example, the average stencil is defined by the following function on each 3-by-3 submatrix:"
   ]
  },
  {
   "cell_type": "code",
   "execution_count": null,
   "metadata": {},
   "outputs": [],
   "source": [
    "apply_to_3x3(s::AverageStencil, A33) = sum(A33) / length(A33)   # Average of the 9 pixels"
   ]
  },
  {
   "cell_type": "markdown",
   "metadata": {},
   "source": [
    "Other functions can now be written in a way that accepts any stencil, or more precisely\n",
    "any struct object which is a subtype of `AbstractStencil`.\n",
    "The following function demonstrates the syntax for doing\n",
    "this, note how the input stencil `s` is passed to a function `apply_stencil` that you will implement next."
   ]
  },
  {
   "cell_type": "code",
   "execution_count": null,
   "metadata": {},
   "outputs": [],
   "source": [
    "function stencil_demo(s::AbstractStencil)\n",
    "    count = 0\n",
    "    plot_next(A) = subplot(1,4,count+=1), imshow(A[:,:,[1,1,1]])\n",
    "    for noise = [0, 0.3]\n",
    "        A = test_image(1, 50, noise)\n",
    "        plot_next(A)\n",
    "        plot_next(apply_stencil(s,A))\n",
    "    end\n",
    "end"
   ]
  },
  {
   "cell_type": "markdown",
   "metadata": {},
   "source": [
    "#### Problem 1(a)\n",
    "\n",
    "Complete the `apply_stencil` function below, which applies the stencil `s` on the image `A` and returns the resulting image. *Hint*: This is exactly like e.g. the `image_avgfilter` in the lecture notes, except the actual stencil operation is optained by called `apply_to_3x3`."
   ]
  },
  {
   "cell_type": "code",
   "execution_count": null,
   "metadata": {},
   "outputs": [],
   "source": [
    "function apply_stencil(s::AbstractStencil, A)\n",
    "    # Your code\n",
    "end"
   ]
  },
  {
   "cell_type": "code",
   "execution_count": null,
   "metadata": {},
   "outputs": [],
   "source": [
    "# Test code\n",
    "stencil_demo(AverageStencil())"
   ]
  },
  {
   "cell_type": "markdown",
   "metadata": {},
   "source": [
    "#### Problem 1(b)\n",
    "\n",
    "Similarly, define a new subtype `EdgeStencil` which applies the same operation as `maxabsgradfilter` in the lecture notes."
   ]
  },
  {
   "cell_type": "code",
   "execution_count": null,
   "metadata": {},
   "outputs": [],
   "source": []
  },
  {
   "cell_type": "code",
   "execution_count": null,
   "metadata": {},
   "outputs": [],
   "source": [
    "# Test code\n",
    "stencil_demo(EdgeStencil())"
   ]
  },
  {
   "cell_type": "markdown",
   "metadata": {},
   "source": [
    "Note that with the high level of noise, the edge detection essentially cannot identify the object in the image. The goal of the rest of this problem set is to implement the better levelset segmentation algorithm."
   ]
  },
  {
   "cell_type": "markdown",
   "metadata": {},
   "source": [
    "### Problem 2 - Utilities\n",
    "\n",
    "#### Problem 2(a)\n",
    "\n",
    "Note that the curvature $\\kappa$ is also a (more complicated) stencil operation of the same form as the\n",
    "previous ones.\n",
    "\n",
    "Define a new subtype `KappaStencil` which implements this function."
   ]
  },
  {
   "cell_type": "code",
   "execution_count": null,
   "metadata": {},
   "outputs": [],
   "source": []
  },
  {
   "cell_type": "markdown",
   "metadata": {},
   "source": [
    "#### Problem 2(b)\n",
    "\n",
    "Implement the functions `H(t)` and `δ(t)`."
   ]
  },
  {
   "cell_type": "code",
   "execution_count": null,
   "metadata": {},
   "outputs": [],
   "source": []
  },
  {
   "cell_type": "markdown",
   "metadata": {},
   "source": [
    "#### Problem 2(c)\n",
    "\n",
    "Implement a function `coefficients(Φ, A)` which computes and returns $c_1,c_2$\n",
    "for input matrices $\\Phi$ and $A$."
   ]
  },
  {
   "cell_type": "code",
   "execution_count": null,
   "metadata": {},
   "outputs": [],
   "source": []
  },
  {
   "cell_type": "markdown",
   "metadata": {},
   "source": [
    "#### Problem 2(d)\n",
    "\n",
    "Implement a function `update(Φ, A)` which computes and returns the update matrix $\\Delta\\Phi$ for\n",
    "input matrices $\\Phi$ and $A$ (using the functions implemented above for computing $c_1,c_2$ and $\\kappa$)."
   ]
  },
  {
   "cell_type": "code",
   "execution_count": null,
   "metadata": {},
   "outputs": [],
   "source": []
  },
  {
   "cell_type": "markdown",
   "metadata": {},
   "source": [
    "### Problem 3 - Final Image Segmentation function\n",
    "\n",
    "Implement a function `image_segment(A; maxiter=100000)` which implements the overall algorithm, more precisely:\n",
    "\n",
    "* Start by initializing $\\Phi$ using the `initial_value` function\n",
    "* Iterate at most `maxiter` times\n",
    "* Compute updates $\\Delta\\Phi$ and add to $\\Phi$\n",
    "* Terminate if $\\max_{ij} |\\Delta\\Phi_{ij}| < 2\\cdot 10^{-2}$\n",
    "\n",
    "The function finally returns $\\Phi$ (whether it terminated early or not)."
   ]
  },
  {
   "cell_type": "code",
   "execution_count": null,
   "metadata": {},
   "outputs": [],
   "source": []
  },
  {
   "cell_type": "code",
   "execution_count": null,
   "metadata": {},
   "outputs": [],
   "source": [
    "# Test code:\n",
    "count = 0\n",
    "for noise = [0, 0.3], ver = 1:2\n",
    "    subplot(2,2,count+=1)\n",
    "    A = test_image(ver, 50, noise)\n",
    "    Φ = image_segment(A)\n",
    "    imshow(A[:,:,[1,1,1]])\n",
    "    contour(Φ, [0.0], colors=\"b\")\n",
    "end"
   ]
  },
  {
   "cell_type": "code",
   "execution_count": null,
   "metadata": {},
   "outputs": [],
   "source": []
  }
 ],
 "metadata": {
  "kernelspec": {
   "display_name": "Julia 1.9.2",
   "language": "julia",
   "name": "julia-1.9"
  },
  "language_info": {
   "file_extension": ".jl",
   "mimetype": "application/julia",
   "name": "julia",
   "version": "1.9.2"
  }
 },
 "nbformat": 4,
 "nbformat_minor": 2
}
