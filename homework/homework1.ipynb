{
 "cells": [
  {
   "cell_type": "markdown",
   "metadata": {},
   "source": [
    "# Math 124 - Programming for Mathematical Applications\n",
    "UC Berkeley, Spring 2024\n",
    "\n",
    "## Homework 1\n",
    "Due Wednesday Jan 24\n"
   ]
  },
  {
   "cell_type": "markdown",
   "metadata": {},
   "source": [
    "### Problem 1: Markdown / LaTeX\n",
    "\n",
    "A page of mathematical text is provided as a PNG image below. Write this entire text segment as a Markdown / LaTeX cell.\n",
    "\n",
    "The following online resources can be helpful:\n",
    "\n",
    "- [Markdown Cheat-sheet](https://github.com/adam-p/markdown-here/wiki/Markdown-Here-Cheatsheet)\n",
    "- [Wiki-books LaTeX/Mathematics](https://en.wikibooks.org/wiki/LaTeX/Mathematics)\n",
    "- [LaTeX Math Cheat-sheet](http://tug.ctan.org/info/undergradmath/undergradmath.pdf)\n",
    "\n",
    "![md_latex_exercise1.png](https://github.com/popersson/math124files/raw/main/homework/md_latex_exercise1.png)"
   ]
  },
  {
   "cell_type": "markdown",
   "metadata": {},
   "source": []
  },
  {
   "cell_type": "markdown",
   "metadata": {},
   "source": [
    "### Problem 2\n",
    "\n",
    "Fill in all the question marks in the comments (first try without running any code)."
   ]
  },
  {
   "cell_type": "code",
   "execution_count": 1,
   "metadata": {},
   "outputs": [],
   "source": [
    "X = 8;\n",
    "# X = ?, Y = ?\n",
    "Y = X;\n",
    "# X = ?, Y = ?\n",
    "X = Y;\n",
    "# X = ?, Y = ?\n",
    "X *= 2;\n",
    "# X = ?, Y = ?\n",
    "Y /= 2;\n",
    "# X = ?, Y = ?"
   ]
  },
  {
   "cell_type": "markdown",
   "metadata": {},
   "source": [
    "### Problem 3\n",
    "\n",
    "(from **Insight**, P1.1.6)\n",
    "\n",
    "An ellipse with semiaxes $a$ and $b$ is specified by\n",
    "\n",
    "$$\\left( \\frac{x}{a} \\right)^2 + \\left( \\frac{y}{b} \\right)^2 = 1$$\n",
    "\n",
    "If $r=a=b$, then this defines a circle whose perimeter is given by $P=2\\pi r$.\n",
    "Unfortunately, if $a \\ne b$, then there is no simple formula for the perimeter\n",
    "and we must resort to approximation. Numerous possibilities have been worked out:\n",
    "\n",
    "\\begin{align*}\n",
    "P_1 &= \\pi(a+b) & P_5 &= \\pi(a+b)\\left(1+\\frac{3h}{10+\\sqrt{4-3h}}\\right) \\\\\n",
    "P_2 &= \\pi\\sqrt{2(a^2+b^2)} & P_6 &= \\pi(a+b)\\frac{64-3h^2}{64-16h} \\\\\n",
    "P_3 &= \\pi\\sqrt{2(a^2+b^2)-\\frac{(a-b)^2}{2}} & \n",
    "   P_7 &= \\pi(a+b)\\frac{256-48h-21h^2}{256-112h+3h^2} \\\\\n",
    "P_4 &= \\pi(a+b)\\left(1+\\frac{h}{8}\\right)^2 &\n",
    "   P_8 &= \\pi(a+b)\\left(\\frac{3-\\sqrt{1-h}}{2}\\right)\n",
    "\\end{align*}\n",
    "\n",
    "Here,\n",
    "\n",
    "$$ h = \\left(\\frac{a-b}{a+b}\\right)^2 $$\n",
    "\n",
    "can be regarded as a departure from \"circlehood.\""
   ]
  },
  {
   "cell_type": "markdown",
   "metadata": {},
   "source": [
    "### Problem 3 (a)\n",
    "\n",
    "Write a function `printallP(a,b)` which computes each of the 8 approximations\n",
    "and prints each value using `println`."
   ]
  },
  {
   "cell_type": "code",
   "execution_count": null,
   "metadata": {},
   "outputs": [],
   "source": [
    "function printallP(a,b)\n",
    "    # Compute and print each of the 8 approximations\n",
    "    \n",
    "    \n",
    "end"
   ]
  },
  {
   "cell_type": "markdown",
   "metadata": {},
   "source": [
    "### Problem 3 (b)\n",
    "\n",
    "Run `printallP` for the parameters $(a,b) = (1,1)$, $(1,0.5)$, and $(1,0.1)$."
   ]
  },
  {
   "cell_type": "code",
   "execution_count": null,
   "metadata": {},
   "outputs": [],
   "source": []
  },
  {
   "cell_type": "code",
   "execution_count": null,
   "metadata": {},
   "outputs": [],
   "source": []
  },
  {
   "cell_type": "code",
   "execution_count": null,
   "metadata": {},
   "outputs": [],
   "source": []
  }
 ],
 "metadata": {
  "kernelspec": {
   "display_name": "Julia 1.9.2",
   "language": "julia",
   "name": "julia-1.9"
  },
  "language_info": {
   "file_extension": ".jl",
   "mimetype": "application/julia",
   "name": "julia",
   "version": "1.9.2"
  }
 },
 "nbformat": 4,
 "nbformat_minor": 2
}
