{
 "cells": [
  {
   "cell_type": "markdown",
   "metadata": {},
   "source": [
    "# Math 124 - Programming for Mathematical Applications\n",
    "UC Berkeley, Spring 2024\n",
    "\n",
    "## Homework 2\n",
    "Due Wednesday, January 31"
   ]
  },
  {
   "cell_type": "markdown",
   "metadata": {},
   "source": [
    "### Problem 1\n",
    "Consider the 4-term recurrence relation\n",
    "$$ay_{n+1} = by_n + cy_{n-1} + dy_{n-2}$$\n",
    "with $a=1$, $b=2$, $c=-5/4$, and $d=1/4$.\n",
    "\n",
    "### Problem 1 (a)\n",
    "\n",
    "Write a function `four_term(y0, y1, y2, n)` to return $y_n$ in this recurrence, taking in the initial values, $y_0$, $y_1$, and $y_2$. You can assume that $n \\ge 2$."
   ]
  },
  {
   "cell_type": "code",
   "execution_count": null,
   "metadata": {},
   "outputs": [],
   "source": []
  },
  {
   "cell_type": "markdown",
   "metadata": {},
   "source": [
    "### Problem 1 (b)\n",
    "Print out the results from evaluating the function with $y_0=1$, $y_1=5$, $y_2=-2$ and $n = 5, 10, 100, 500, 10000$. "
   ]
  },
  {
   "cell_type": "code",
   "execution_count": null,
   "metadata": {},
   "outputs": [],
   "source": []
  },
  {
   "cell_type": "markdown",
   "metadata": {},
   "source": [
    "### Problem 1(c) \n",
    "Print out the results from evaluating the function with $y_0=-2$, $y_1=1$, $y_2=5$, and $n = 5, 10, 100, 500, 10000$. "
   ]
  },
  {
   "cell_type": "code",
   "execution_count": null,
   "metadata": {},
   "outputs": [],
   "source": []
  },
  {
   "cell_type": "markdown",
   "metadata": {},
   "source": [
    "### Problem 2\n",
    "(Adapted from **Think**, P7-4)\n",
    "\n",
    "The following sequence converges to $\\pi$:\n",
    "$$a_n = \\sum_{k=0}^n \\left(\\cfrac{6}{\\sqrt{3}}\\right)\\cfrac{(-1)^k}{3^k(2k+1)}$$\n",
    "\n",
    "Moreover, the mathematician Srinivasa Ramanujan found an infinite series that can be used to generate a numerical approximation of $\\frac{1}{\\pi}$:\n",
    "$$\\cfrac{1}{\\pi} = \\sum_{k=0}^\\infty \\left( \\cfrac{2 \\sqrt{2}}{9801} \\right)\\cfrac{(4k)!(1103+26390k)}{(k!)^4 396^{4k}}$$\n",
    "\n",
    "### Problem 2 (a)\n",
    "Write a function `pi_a()` that uses this first formula to compute and return an estimate of $\\pi$ in a way that avoids overflow issues. It should use a while loop to compute terms of the summation until the **difference in two consecutive terms is smaller than $10^{-15}$**."
   ]
  },
  {
   "cell_type": "code",
   "execution_count": null,
   "metadata": {},
   "outputs": [],
   "source": []
  },
  {
   "cell_type": "markdown",
   "metadata": {},
   "source": [
    "### Problem 2 (b)\n",
    "Write a function `pi_ramanu()` that uses Ramanujan's formula to compute and return an estimate of $\\pi$ in a way that avoids overflow issues. It should use a while loop to compute terms of the summation until **the last term is smaller than $10^{-15}$**."
   ]
  },
  {
   "cell_type": "code",
   "execution_count": null,
   "metadata": {},
   "outputs": [],
   "source": []
  },
  {
   "cell_type": "markdown",
   "metadata": {},
   "source": [
    "### Problem 3\n",
    "(Adapted from Project Euler, Problem 3)\n",
    "\n",
    "We define the prime factors of a number as those prime numbers that exactly divide the original number. For instance, the prime factors of $13195$ are $5$, $7$, $13$, and $29$.\n",
    "\n",
    "What is the largest prime factor of the number $600855143$?\n",
    "\n",
    "Hint: One way to answer this question would be to create a function `is_prime(test_num)` that determines if a given number is prime, and then use this function to test candidate prime factors of our large number. Over what range of numbers should we loop in order to solve this problem, while testing only a small amount of candidates?"
   ]
  },
  {
   "cell_type": "code",
   "execution_count": null,
   "metadata": {},
   "outputs": [],
   "source": []
  },
  {
   "cell_type": "markdown",
   "metadata": {},
   "source": [
    "### Problem 4\n",
    "We wish to solve the equation $x = \\cos{x}$ for $x \\in \\mathbb{R}$. The fixed point iteration for this equation is defined to be:\n",
    "\n",
    "$$x_{n+1} = \\cos{(x_n)}$$\n",
    "\n",
    "where $x_n$ are successively better approximations to the true solution $x_*$. We start this iteration with the initial guess $x_0 = 1$.\n",
    "\n",
    "### Problem 4 (a)\n",
    "Write a function `fixed_point(tol)` that computes an approximate solution using this fixed point iteration such that the error $|x_n - x_{n-1}|$ is within a specified tolerance. Test it with `tol=1e-3, 1e-6, 1e-12`. How many iterations does it take each test to converge?"
   ]
  },
  {
   "cell_type": "code",
   "execution_count": null,
   "metadata": {},
   "outputs": [],
   "source": []
  },
  {
   "cell_type": "markdown",
   "metadata": {},
   "source": [
    "### Problem 4 (b)\n",
    "Derive Newton's method for solving the equation $x = \\cos{x}$."
   ]
  },
  {
   "cell_type": "markdown",
   "metadata": {},
   "source": []
  },
  {
   "cell_type": "markdown",
   "metadata": {},
   "source": [
    "### Problem 4 (c)\n",
    "Write a function `newton_method(tol)` to compute an approximate solution using Newton's method, such that the error is within a specified tolerance. Again use the initial guess $x_0 = 1$. Test it with `tol=1e-3, 1e-6, 1e-12`. How many iterations does it take each test to converge?"
   ]
  },
  {
   "cell_type": "code",
   "execution_count": null,
   "metadata": {},
   "outputs": [],
   "source": []
  }
 ],
 "metadata": {
  "kernelspec": {
   "display_name": "Julia 1.9.2",
   "language": "julia",
   "name": "julia-1.9"
  },
  "language_info": {
   "file_extension": ".jl",
   "mimetype": "application/julia",
   "name": "julia",
   "version": "1.9.2"
  }
 },
 "nbformat": 4,
 "nbformat_minor": 2
}
