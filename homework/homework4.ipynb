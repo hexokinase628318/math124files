{
 "cells": [
  {
   "cell_type": "markdown",
   "metadata": {},
   "source": [
    "# Math 124 - Programming for Mathematical Applications\n",
    "UC Berkeley, Spring 2024\n",
    "\n",
    "## Homework 4\n",
    "Due Wednesday, February 14"
   ]
  },
  {
   "cell_type": "markdown",
   "metadata": {},
   "source": [
    "### Problem 1\n",
    "\n",
    "(from **Insight**, P6.1.10)\n",
    "\n",
    "Write a program that generates $n=10$ real numbers selected randomly and\n",
    "uniformly distributed from the set\n",
    "$\\{x : 0 < x < 2\\text{ or }7 < x < 10\\}$."
   ]
  },
  {
   "cell_type": "code",
   "execution_count": null,
   "metadata": {},
   "outputs": [],
   "source": []
  },
  {
   "cell_type": "markdown",
   "metadata": {},
   "source": [
    "### Problem 2\n",
    "\n",
    "(from **Insight**, P6.1.12)\n",
    "\n",
    "Assume that the coefficients of the quadratic $a x^2 + bx + c$ are selected from the uniform\n",
    "distribution on $(−2, 2)$. Use the Monte Carlo method to determine the probability of complex roots. What if the coefficients are generated with `randn` with mean $\\mu=0$ and standard deviation $\\sigma = 0.4$?"
   ]
  },
  {
   "cell_type": "code",
   "execution_count": null,
   "metadata": {},
   "outputs": [],
   "source": []
  },
  {
   "cell_type": "code",
   "execution_count": null,
   "metadata": {},
   "outputs": [],
   "source": []
  },
  {
   "cell_type": "markdown",
   "metadata": {},
   "source": [
    "### Problem 3\n",
    "\n",
    "(from **Insight**, P6.1.15)\n",
    "\n",
    "Two points on the unit circle are randomly selected. Use the Monte Carlo method to determine the probability that the length of the connecting chord is greater than 1."
   ]
  },
  {
   "cell_type": "code",
   "execution_count": null,
   "metadata": {},
   "outputs": [],
   "source": []
  },
  {
   "cell_type": "markdown",
   "metadata": {},
   "source": [
    "### Problem 4\n",
    "\n",
    "(from **Insight**, P6.1.19a)\n",
    "\n",
    "Write a function `ProbG(L,R)` that returns an estimate of the area under the function\n",
    "\n",
    "$$\n",
    "f(x) =  \\frac{1}{\\sqrt{2\\pi}} e^{-x^2/2}\n",
    "$$\n",
    "\n",
    "from $L$ to $R$ using Monte Carlo. Assume $L < R$. *Hint*: Throw darts in the rectangle having\n",
    "vertices $(L, 0)$, $(R, 0)$, $(R, 1)$, and $(L, 1)$ and count how many are under the curve."
   ]
  },
  {
   "cell_type": "code",
   "execution_count": null,
   "metadata": {},
   "outputs": [],
   "source": []
  },
  {
   "cell_type": "markdown",
   "metadata": {},
   "source": [
    "Test the function using $L=0$ and $R=2$:"
   ]
  },
  {
   "cell_type": "code",
   "execution_count": null,
   "metadata": {},
   "outputs": [],
   "source": []
  },
  {
   "cell_type": "markdown",
   "metadata": {},
   "source": [
    "### Problem 5\n",
    "\n",
    "(from **Insight**, P6.2.5)\n",
    "\n",
    "Consider the random walk function `random_walk(n)` from the lecture slides.\n",
    "\n",
    "We conjecture that the walker is more likely to exit near the middle of an edge than near a\n",
    "corner. Produce a bar plot that sheds light on this conjecture, for `n=20` and a large number of trials. "
   ]
  },
  {
   "cell_type": "code",
   "execution_count": null,
   "metadata": {},
   "outputs": [],
   "source": []
  },
  {
   "cell_type": "markdown",
   "metadata": {},
   "source": [
    "### Problem 6"
   ]
  },
  {
   "cell_type": "markdown",
   "metadata": {},
   "source": [
    "Use Monte Carlo simulation with one million trials to estimate the probability that a random poker hand contains two pairs (that is, two of each of two different ranks and a fifth card of a third rank)."
   ]
  },
  {
   "cell_type": "code",
   "execution_count": null,
   "metadata": {},
   "outputs": [],
   "source": []
  },
  {
   "cell_type": "markdown",
   "metadata": {},
   "source": [
    "### Problem 7\n",
    "\n",
    "Use array functions and vectorization to solve the problems below using *only a single line of code* for each problem."
   ]
  },
  {
   "cell_type": "code",
   "execution_count": 1,
   "metadata": {},
   "outputs": [
    {
     "data": {
      "text/plain": [
       "9×5 Matrix{Int64}:\n",
       "   0   -2  -4   5   3\n",
       " -10   -1  -3   6   4\n",
       "  -9    0  -2   7   5\n",
       "  -8  -10  -1   8   6\n",
       "  -7   -9   0   9   7\n",
       "  -6   -8   1  10   8\n",
       "  -5   -7   2   0   9\n",
       "  -4   -6   3   1  10\n",
       "  -3   -5   4   2   0"
      ]
     },
     "execution_count": 1,
     "metadata": {},
     "output_type": "execute_result"
    }
   ],
   "source": [
    "A = reshape((-22:22) .% 11, 9, 5)          # For testing"
   ]
  },
  {
   "cell_type": "markdown",
   "metadata": {},
   "source": [
    "### Problem 7(a)\n",
    "\n",
    "Count the number of elements $a$ of $A$ that satisfy $a^2<10$."
   ]
  },
  {
   "cell_type": "code",
   "execution_count": null,
   "metadata": {},
   "outputs": [],
   "source": []
  },
  {
   "cell_type": "markdown",
   "metadata": {},
   "source": [
    "### Problem 7(b)\n",
    "\n",
    "Create a matrix which contains only the columns $j$ of $A$ where the first element $A_{1,j} \\ge 0$."
   ]
  },
  {
   "cell_type": "code",
   "execution_count": null,
   "metadata": {},
   "outputs": [],
   "source": []
  },
  {
   "cell_type": "markdown",
   "metadata": {},
   "source": [
    "### Problem 7(c)\n",
    "\n",
    "Modify $A$ in the following way: Multiply all the elements that are even by 3 (you might need to print $A$ on a separate line to see the full matrix):"
   ]
  },
  {
   "cell_type": "code",
   "execution_count": null,
   "metadata": {},
   "outputs": [],
   "source": []
  }
 ],
 "metadata": {
  "kernelspec": {
   "display_name": "Julia 1.9.2",
   "language": "julia",
   "name": "julia-1.9"
  },
  "language_info": {
   "file_extension": ".jl",
   "mimetype": "application/julia",
   "name": "julia",
   "version": "1.9.2"
  }
 },
 "nbformat": 4,
 "nbformat_minor": 2
}
