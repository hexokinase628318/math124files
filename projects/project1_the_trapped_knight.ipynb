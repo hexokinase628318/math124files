{
 "cells": [
  {
   "cell_type": "markdown",
   "metadata": {},
   "source": [
    "# Math 124 - Programming for Mathematical Applications\n",
    "UC Berkeley, Spring 2024\n",
    "\n",
    "## Project 1 - The Trapped Knight\n",
    "Due Friday, February 9"
   ]
  },
  {
   "cell_type": "markdown",
   "metadata": {},
   "source": [
    "### Description\n",
    "\n",
    "In this project, you will write a computer code to generate a particular sequence of numbers described in the following YouTube video: [The Trapped Knight](https://www.youtube.com/watch?v=RGQe8waGJ4w)\n",
    "\n",
    "Begin by watching the video and make sure you understand exactly how the sequence is generated. Then continue to implement the code in the 3 parts described below."
   ]
  },
  {
   "cell_type": "markdown",
   "metadata": {},
   "source": [
    "### Part 1 - Initialize the board\n",
    "\n",
    "We will store the chess board in a 2d-array of integers. The size of the board is $(2n+1)$-by-$(2n+1)$, for a given integer $n$. This means the board extends from the center square by $n$ steps in all directions.\n",
    "\n",
    "The first step is to initialize the board by filling it with the integers described in the video. Finish the implementation of the function definition in the cell below such that it returns this \"spiral pattern\" for any given input parameter $n$.\n",
    "\n",
    "An example is given below: for the following input\n",
    "```julia\n",
    "board = initialize_board(3)\n",
    "```\n",
    "the correct output is\n",
    "```julia\n",
    "7×7 Matrix{Int64}:\n",
    " 37  36  35  34  33  32  31\n",
    " 38  17  16  15  14  13  30\n",
    " 39  18   5   4   3  12  29\n",
    " 40  19   6   1   2  11  28\n",
    " 41  20   7   8   9  10  27\n",
    " 42  21  22  23  24  25  26\n",
    " 43  44  45  46  47  48  49\n",
    "```\n",
    "\n",
    "Test your function for various values of $n$ to make sure it is correct before you continue.\n",
    "\n",
    "*Hints*:\n",
    "- Note that since Julia uses 1-based indexing, the center square of the array `board` is given by element `board[n+1,n+1]`.\n",
    "- After the center $1$ has been placed, there are exactly $n$ \"circles\" of numbers of increasing radius. This is naturally implemented using a for-loop.\n",
    "- In each \"circle\", there are 4 segments going up, left, down, and right. These are also naturally implemented using a sequence of 4 for-loops."
   ]
  },
  {
   "cell_type": "code",
   "execution_count": 1,
   "metadata": {},
   "outputs": [
    {
     "data": {
      "text/plain": [
       "initialize_board (generic function with 1 method)"
      ]
     },
     "execution_count": 1,
     "metadata": {},
     "output_type": "execute_result"
    }
   ],
   "source": [
    "# Initializes the board on a [-n:n]x[-n:n] domain with spiral numbers\n",
    "#\n",
    "# Example: initialize_board(2) returns\n",
    "# 17 16 15 14 13\n",
    "# 18  5  4  3 12\n",
    "# 19  6  1  2 11\n",
    "# 20  7  8  9 10\n",
    "# 21 22 23 24 25\n",
    "#\n",
    "# Inputs:\n",
    "#  n     = integer size of board to allocate\n",
    "# Outputs: \n",
    "#  board = 2n+1 x 2n+1 integer array filled with spiral numbers\n",
    "function initialize_board(n)\n",
    "\n",
    "end"
   ]
  },
  {
   "cell_type": "markdown",
   "metadata": {},
   "source": [
    "### Part 2 - Simulate the walk\n",
    "\n",
    "Next we will write the function to simulate the walk and produce the sequence. This function will take an initialized board as input, and produce a list of numbers as well as the corresponding x- and y-coordinates.\n",
    "\n",
    "For example, the following input:\n",
    "```julia\n",
    "board = initialize_board(2)\n",
    "display(board)\n",
    "seq, xs, ys = simulate_walk(board);\n",
    "println(\"Sequence = \", seq)\n",
    "println(\"x-coordinates = \", xs)\n",
    "println(\"y-coordinates = \", ys)\n",
    "```\n",
    "should produce the following correct output:\n",
    "```julia\n",
    "5×5 Matrix{Int64}:\n",
    " 17  16  15  14  13\n",
    " 18   5   4   3  12\n",
    " 19   6   1   2  11\n",
    " 20   7   8   9  10\n",
    " 21  22  23  24  25\n",
    "Sequence = [1, 10, 3, 6, 9, 4, 7, 2, 5, 8, 11, 14]\n",
    "x-coordinates = [0, 2, 1, -1, 1, 0, -1, 1, -1, 0, 2, 1]\n",
    "y-coordinates = [0, 1, -1, 0, 1, -1, 1, 0, -1, 1, 0, -2]\n",
    "```\n",
    "\n",
    "Again test your code, first using small values of $n$ as shown above, which makes it easier to look at the results and find errors.\n",
    "\n",
    "*Hints*:\n",
    "- It is convenient to create another 2d-array of booleans, indicating if a square has been visited or not.\n",
    "- Make sure you never allow the knight to jump outside the board. That is, the only valid positions are $n$ steps from the center square in either direction"
   ]
  },
  {
   "cell_type": "code",
   "execution_count": 2,
   "metadata": {},
   "outputs": [
    {
     "data": {
      "text/plain": [
       "simulate_walk (generic function with 1 method)"
      ]
     },
     "execution_count": 2,
     "metadata": {},
     "output_type": "execute_result"
    }
   ],
   "source": [
    "# Simulates the trapped knight walk on a pre-initialized board and returns information about knight walk.\n",
    "# \n",
    "# Inputs: \n",
    "#  board    = 2n+1 x 2n+1 integer array filled with spiral numbers\n",
    "# Outputs: \n",
    "#  sequence = integer array containing the sequence of spiral numbers the knight jumped to during walk\n",
    "#  x_path   = integer array containing the x coordinates of each step of knight walk\n",
    "#  y_path   = integer array containing the y coordinates of each step of knight walk\n",
    "function simulate_walk(board)\n",
    "\n",
    "end"
   ]
  },
  {
   "cell_type": "markdown",
   "metadata": {},
   "source": [
    "### Part 3 - Generate the full sequence and plot the path\n",
    "\n",
    "Finally, use your code to generate the full sequence ($n=100$ is sufficient), output the *last* number, and plot the path by straight lines between all the visited x,y-coordinates."
   ]
  },
  {
   "cell_type": "code",
   "execution_count": null,
   "metadata": {},
   "outputs": [],
   "source": []
  },
  {
   "cell_type": "code",
   "execution_count": null,
   "metadata": {},
   "outputs": [],
   "source": []
  }
 ],
 "metadata": {
  "kernelspec": {
   "display_name": "Julia 1.9.2",
   "language": "julia",
   "name": "julia-1.9"
  },
  "language_info": {
   "file_extension": ".jl",
   "mimetype": "application/julia",
   "name": "julia",
   "version": "1.9.2"
  }
 },
 "nbformat": 4,
 "nbformat_minor": 2
}
