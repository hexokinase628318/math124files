{
 "cells": [
  {
   "cell_type": "markdown",
   "metadata": {},
   "source": [
    "# Math 124 - Programming for Mathematical Applications\n",
    "UC Berkeley, Spring 2022\n",
    "\n",
    "## Homework 9\n",
    "Due Wednesday, April 6"
   ]
  },
  {
   "cell_type": "code",
   "execution_count": null,
   "metadata": {},
   "outputs": [],
   "source": [
    "using PyCall, PyPlot   # Packages needed"
   ]
  },
  {
   "cell_type": "markdown",
   "metadata": {},
   "source": [
    "### Problem 1 - Data Structures and Runge 5 solver\n",
    "\n",
    "First we will create some data structures for representing IVP problems and solutions.\n",
    "\n",
    "#### Problem 1(a)\n",
    "\n",
    "Define a `struct` named `IVPproblem` with the following variables and types:\n",
    "\n",
    "* `f`, a `Function`\n",
    "* `T`, a `Number`\n",
    "* `y0`, a `Vector`\n",
    "\n",
    "Define a `struct` named `IVPsolution` with the following variables and types:\n",
    "\n",
    "* `t`, a `Vector`\n",
    "* `y`, a `Matrix`"
   ]
  },
  {
   "cell_type": "code",
   "execution_count": null,
   "metadata": {},
   "outputs": [],
   "source": []
  },
  {
   "cell_type": "markdown",
   "metadata": {},
   "source": [
    "#### Problem 1(b)\n",
    "\n",
    "Next, implement the following 5th order accurate Runge-Kutta method as a Julia function named `runge5` with the same syntax as the `rk4` function in the lecture notebook.\n",
    "\n",
    "$$\n",
    "\\begin{align*}\n",
    "k_1 &= h f(t_n, y_n) \\\\\n",
    "k_2 &= h f(t_n + h/5, y_n + k_1/5) \\\\\n",
    "k_3 &= h f(t_n + 2h/5, y_n + 2k_2/5) \\\\\n",
    "k_4 &= h f(t_n + h, y_n + 9k_1/4 - 5k_2 + 15k_3/4) \\\\\n",
    "k_5 &= h f(t_n + 3h/5, y_n - 63k_1/100 + 9k_2/5 - 13k_3/20 + 2k_4/25) \\\\\n",
    "k_6 &= h f(t_n + 4h/5, y_n - 6k_1/25 + 4k_2/5 + 2k_3/15 + 8k_4/75) \\\\\n",
    "y_{n+1} &= y_n + (17k_1 + 100k_3 + 2k_4 - 50k_5 + 75k_6) / 144\n",
    "\\end{align*}\n",
    "$$"
   ]
  },
  {
   "cell_type": "code",
   "execution_count": null,
   "metadata": {},
   "outputs": [],
   "source": []
  },
  {
   "cell_type": "markdown",
   "metadata": {},
   "source": [
    "#### Problem 1(c)\n",
    "\n",
    "Implement a function `runge5(ivp, N)` where `ivp` is of type `IVPproblem` and `N` is the\n",
    "number of timesteps. The function should return the solution as a type `IVPsolutions`.\n",
    "Do not rewrite any code from before, but simply call the previous function."
   ]
  },
  {
   "cell_type": "code",
   "execution_count": null,
   "metadata": {},
   "outputs": [],
   "source": []
  },
  {
   "cell_type": "markdown",
   "metadata": {},
   "source": [
    "#### Problem 1(d)\n",
    "\n",
    "* Create an `IVPproblem` for the differential equation $f(t,y)=-y$, $T=1$, $y(0)=1$.\n",
    "* Solve using `runge5` with $N=10$ to obtain an `IVPsolution`\n",
    "* Compute and show the differences between the computed solution and the true solution"
   ]
  },
  {
   "cell_type": "code",
   "execution_count": null,
   "metadata": {},
   "outputs": [],
   "source": []
  },
  {
   "attachments": {
    "double_pendulum.png": {
     "image/png": "[encoded data removed]"
    }
   },
   "cell_type": "markdown",
   "metadata": {},
   "source": [
    "### Problem 2 - Double pendulum\n",
    "\n",
    "Next we will study the evolution of a double pendulum.\n",
    "The state of the configuration at time $t$ is given by the angles\n",
    "$\\theta_1(t)$ and $\\theta_2(t)$, see figure below.\n",
    "\n",
    "<div>\n",
    "<img src=\"attachment:double_pendulum.png\" width=\"250\">\n",
    "</div>"
   ]
  },
  {
   "cell_type": "markdown",
   "metadata": {},
   "source": [
    "Assuming that the lengths of the bars are 1, the masses at the end of\n",
    "the bars are 1, and that the constant of gravity is 1, the equations\n",
    "of motion for the double pendulum can be written:\n",
    "\n",
    "$$\n",
    "\\begin{align}\n",
    "\\theta_1''&=\\frac{-3\\sin\\theta_1-\\sin(\\theta_1-2\\theta_2)\n",
    "-2\\sin(\\theta_1-\\theta_2)\\cdot(\\theta_2'^2+\\theta_1'^2\\cos(\\theta_1-\\theta_2))}\n",
    "{3-\\cos(2\\theta_1-2\\theta_2)} \\label{ode1} \\\\ \n",
    "\\theta_2''&=\\frac{2\\sin(\\theta_1-\\theta_2)(2\\theta_1'^2+2\\cos\\theta_1\n",
    "+\\theta_2'^2\\cos(\\theta_1-\\theta_2))}{3-\\cos(2\\theta_1-2\\theta_2)} \\label{ode2}\n",
    "\\end{align}\n",
    "$$\n",
    "\n",
    "#### Problem 2(a)\n",
    "\n",
    "Rewrite these as a system of 1st order equations by introducing the angular velocities $\\omega_1=\\theta_1'$ and\n",
    "$\\omega_2=\\theta_2'$. The current state of the pendulum can then be described by the vector\n",
    "$y=(\\theta_1,\\theta_2,\\omega_1,\\omega_2)$, and the 1st order\n",
    "system can be written as $y' = f(t,y)$. Write a Julia function `fpend(t,y)` which evalutes this function."
   ]
  },
  {
   "cell_type": "code",
   "execution_count": null,
   "metadata": {},
   "outputs": [],
   "source": []
  },
  {
   "cell_type": "markdown",
   "metadata": {},
   "source": [
    "#### Problem 2(b)\n",
    "\n",
    "* Create an `IVPproblem` for the double pendulum problem, for the initial\n",
    "condition $\\theta_1 = \\theta_2 = 2$, $\\omega_1=0$, $\\omega_2=-1$ and the final time $T=100$.\n",
    "\n",
    "* Create an `IVPsolution` by solving using `runge5` and $N=500$.\n",
    "\n",
    "* Plot the solution vs time (all four components $\\theta_1(t)$, $\\theta_2(t)$, $\\omega_1(t)$, $\\omega_2(t)$)."
   ]
  },
  {
   "cell_type": "code",
   "execution_count": null,
   "metadata": {},
   "outputs": [],
   "source": []
  },
  {
   "cell_type": "markdown",
   "metadata": {},
   "source": [
    "#### Animation (optional)\n",
    "\n",
    "If you want to, run the cell below to create a movie of the evolving double pendulum and show it inside the notebook. It looks pretty cool, and can be quite useful for debugging your code.\n",
    "\n",
    "To create the animation, call the function `anim` below with your `IVPsolution` as the only argument."
   ]
  },
  {
   "cell_type": "code",
   "execution_count": null,
   "metadata": {},
   "outputs": [],
   "source": [
    "@pyimport IPython.display as d\n",
    "function anim(sol::IVPsolution)\n",
    "    animation = pyimport(\"matplotlib.animation\");\n",
    "    fig, ax = subplots(figsize=(5,5))\n",
    "    function update(frame)\n",
    "        θ1 = sol.y[frame+1,1]\n",
    "        θ2 = sol.y[frame+1,2]\n",
    "        p1 = [sin(θ1),-cos(θ1)]\n",
    "        p2 = p1 .+ [sin(θ2),-cos(θ2)]\n",
    "        ax.clear()\n",
    "        ax.plot([0,p1[1],p2[1]], [0,p1[2],p2[2]], linewidth=2)\n",
    "        ax.add_artist(matplotlib.patches.Circle(p1, 0.1))\n",
    "        ax.add_artist(matplotlib.patches.Circle(p2, 0.1))\n",
    "        ax.set_xlim([-2.5,2.5])\n",
    "        ax.set_ylim([-2.5,2.5])\n",
    "    end\n",
    "\n",
    "    ani = animation.FuncAnimation(fig, update, frames=length(sol.t), interval=50)\n",
    "    close(ani._fig)\n",
    "    d.HTML(ani.to_jshtml())\n",
    "end"
   ]
  },
  {
   "cell_type": "code",
   "execution_count": null,
   "metadata": {},
   "outputs": [],
   "source": []
  },
  {
   "cell_type": "code",
   "execution_count": null,
   "metadata": {},
   "outputs": [],
   "source": []
  }
 ],
 "metadata": {
  "kernelspec": {
   "display_name": "Julia 1.6.3",
   "language": "julia",
   "name": "julia-1.6"
  },
  "language_info": {
   "file_extension": ".jl",
   "mimetype": "application/julia",
   "name": "julia",
   "version": "1.6.3"
  }
 },
 "nbformat": 4,
 "nbformat_minor": 2
}
